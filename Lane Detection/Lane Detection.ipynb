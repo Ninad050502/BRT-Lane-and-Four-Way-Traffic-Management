{
 "cells": [
  {
   "cell_type": "code",
   "execution_count": 3,
   "metadata": {},
   "outputs": [
    {
     "name": "stdout",
     "output_type": "stream",
     "text": [
      "Ultralytics YOLOv8.1.20 🚀 Python-3.11.4 torch-2.1.1+cpu CPU (Intel Core(TM) i7-10750H 2.60GHz)\n",
      "Setup complete ✅ (12 CPUs, 7.8 GB RAM, 92.9/147.9 GB disk)\n"
     ]
    }
   ],
   "source": [
    "import ultralytics\n",
    "ultralytics.checks()\n",
    "from ultralytics import YOLO"
   ]
  },
  {
   "cell_type": "code",
   "execution_count": null,
   "metadata": {},
   "outputs": [],
   "source": [
    "model = YOLO('yolov8n.pt')  # load a pretrained YOLOv8n detection model\n",
    "model.train(data='D:\\Python files req for Btech/data.yaml', epochs=50, project='D:\\Python files req for Btech/training_results', name='BRT')"
   ]
  },
  {
   "cell_type": "code",
   "execution_count": 6,
   "metadata": {},
   "outputs": [
    {
     "name": "stdout",
     "output_type": "stream",
     "text": [
      "Frame 70 extracted and saved as D:/Python files req for Btech/Video Image.jpg\n",
      "Clicked at coordinates: (150, 247)\n",
      "Clicked at coordinates: (292, 346)\n"
     ]
    }
   ],
   "source": [
    "# The code you provided earlier to capture mouse clicks and store the coordinates\n",
    "import cv2\n",
    "\n",
    "# Global variables to store click coordinates\n",
    "click_coordinates = []\n",
    "\n",
    "def extract_frame(video_path, frame_number, output_path):\n",
    "    # Open the video file\n",
    "    cap = cv2.VideoCapture(video_path)\n",
    "\n",
    "    # Check if the video file is opened successfully\n",
    "    if not cap.isOpened():\n",
    "        print(\"Error: Couldn't open the video file\")\n",
    "        return\n",
    "\n",
    "    # Set the frame number to extract\n",
    "    cap.set(cv2.CAP_PROP_POS_FRAMES, frame_number)\n",
    "\n",
    "    # Read the frame\n",
    "    ret, frame = cap.read()\n",
    "\n",
    "    # Check if the frame is read successfully\n",
    "    if not ret:\n",
    "        print(\"Error: Couldn't read the frame\")\n",
    "        return\n",
    "\n",
    "    # Save the frame as an image\n",
    "    cv2.imwrite(output_path, frame)\n",
    "\n",
    "    # Release the video capture object\n",
    "    cap.release()\n",
    "\n",
    "    print(f\"Frame {frame_number} extracted and saved as {output_path}\")\n",
    "\n",
    "# Mouse callback function\n",
    "def click_event(event, x, y, flags, param):\n",
    "    global click_coordinates\n",
    "    if event == cv2.EVENT_LBUTTONDOWN and len(click_coordinates) < 2:\n",
    "        click_coordinates.append((x, y))\n",
    "        print(f\"Clicked at coordinates: ({x}, {y})\")\n",
    "        if len(click_coordinates) == 2:\n",
    "            cv2.destroyAllWindows()  # Close the window after two clicks\n",
    "\n",
    "# Example usage\n",
    "video_path = 'D:/Python files req for Btech/Video Footage.mp4'\n",
    "frame_number = 70  # Change this to the desired frame number\n",
    "output_path = 'D:/Python files req for Btech/Video Image.jpg'\n",
    "\n",
    "# Extract frame\n",
    "extract_frame(video_path, frame_number, output_path)\n",
    "\n",
    "# Read the image\n",
    "image = cv2.imread(output_path)\n",
    "\n",
    "# Display the image using OpenCV\n",
    "cv2.imshow(\"Frame\", image)\n",
    "\n",
    "# Set mouse callback function for the image window\n",
    "cv2.setMouseCallback(\"Frame\", click_event)\n",
    "\n",
    "# Wait for any key to be pressed\n",
    "cv2.waitKey(0)\n",
    "\n",
    "# Close all OpenCV windows\n",
    "cv2.destroyAllWindows()\n"
   ]
  },
  {
   "cell_type": "code",
   "execution_count": 7,
   "metadata": {},
   "outputs": [],
   "source": [
    "# In the second cell, you can read the image again and draw a line using the stored coordinates\n",
    "import cv2\n",
    "\n",
    "# Read the image\n",
    "image = cv2.imread('D:/Python files req for Btech/Video Image.jpg')\n",
    "\n",
    "# Draw line using the stored coordinates\n",
    "cv2.line(image, click_coordinates[0], click_coordinates[1], (0, 255, 0), 2)\n",
    "\n",
    "# Display the image with the line drawn\n",
    "cv2.imshow(\"Frame with Line\", image)\n",
    "cv2.waitKey(0)\n",
    "cv2.destroyAllWindows()\n"
   ]
  },
  {
   "cell_type": "code",
   "execution_count": 8,
   "metadata": {},
   "outputs": [],
   "source": [
    "import cv2\n",
    "\n",
    "# Global variables to store click coordinates\n",
    "#click_coordinates = click_coordinates  # Sample coordinates, replace with your actual coordinates\n",
    "\n",
    "def draw_line_on_video(video_path, output_path):\n",
    "    # Open the video file\n",
    "    cap = cv2.VideoCapture(video_path)\n",
    "\n",
    "    # Check if the video file is opened successfully\n",
    "    if not cap.isOpened():\n",
    "        print(\"Error: Couldn't open the video file\")\n",
    "        return\n",
    "\n",
    "    # Get the width and height of the video frames\n",
    "    width = int(cap.get(cv2.CAP_PROP_FRAME_WIDTH))\n",
    "    height = int(cap.get(cv2.CAP_PROP_FRAME_HEIGHT))\n",
    "\n",
    "    # Get the frame rate of the video\n",
    "    fps = cap.get(cv2.CAP_PROP_FPS)\n",
    "\n",
    "    # Create VideoWriter object to write the modified frames to a new video file\n",
    "    fourcc = cv2.VideoWriter_fourcc(*'XVID')\n",
    "    out = cv2.VideoWriter(output_path, fourcc, fps, (width, height))\n",
    "\n",
    "    # Read frames from the video\n",
    "    while True:\n",
    "        ret, frame = cap.read()\n",
    "        if not ret:\n",
    "            break  # Break the loop if there are no more frames\n",
    "\n",
    "        # Draw line on the frame using stored coordinates\n",
    "        cv2.line(frame, click_coordinates[0], click_coordinates[1], (0, 255, 0), 2)\n",
    "\n",
    "        # Write the modified frame to the output video file\n",
    "        out.write(frame)\n",
    "\n",
    "        # Display the frame\n",
    "        cv2.imshow('Frame with Line', frame)\n",
    "\n",
    "        # Check if the user pressed 'q' to exit\n",
    "        if cv2.waitKey(1) & 0xFF == ord('q'):\n",
    "            break\n",
    "\n",
    "    # Release the VideoCapture and VideoWriter objects\n",
    "    cap.release()\n",
    "    out.release()\n",
    "\n",
    "    # Close all OpenCV windows\n",
    "    cv2.destroyAllWindows()\n",
    "\n",
    "# Example usage\n",
    "video_path = 'D:/Python files req for Btech/Video Footage.mp4'\n",
    "output_path = 'D:/Python files req for Btech/Output Video.avi'\n",
    "\n",
    "# Draw line on video frames and save the modified video\n",
    "draw_line_on_video(video_path, output_path)\n"
   ]
  },
  {
   "cell_type": "code",
   "execution_count": 8,
   "metadata": {},
   "outputs": [
    {
     "ename": "KeyboardInterrupt",
     "evalue": "",
     "output_type": "error",
     "traceback": [
      "\u001b[1;31m---------------------------------------------------------------------------\u001b[0m",
      "\u001b[1;31mKeyboardInterrupt\u001b[0m                         Traceback (most recent call last)",
      "Cell \u001b[1;32mIn[8], line 4\u001b[0m\n\u001b[0;32m      2\u001b[0m \u001b[38;5;28;01mimport\u001b[39;00m \u001b[38;5;21;01mcv2\u001b[39;00m\n\u001b[0;32m      3\u001b[0m \u001b[38;5;28;01mfrom\u001b[39;00m \u001b[38;5;21;01mPIL\u001b[39;00m \u001b[38;5;28;01mimport\u001b[39;00m Image, ImageDraw\n\u001b[1;32m----> 4\u001b[0m \u001b[38;5;28;01mfrom\u001b[39;00m \u001b[38;5;21;01mtorchvision\u001b[39;00m\u001b[38;5;21;01m.\u001b[39;00m\u001b[38;5;21;01mtransforms\u001b[39;00m \u001b[38;5;28;01mimport\u001b[39;00m functional \u001b[38;5;28;01mas\u001b[39;00m F\n\u001b[0;32m      6\u001b[0m \u001b[38;5;66;03m# Directory to store the results\u001b[39;00m\n\u001b[0;32m      7\u001b[0m results_dir \u001b[38;5;241m=\u001b[39m \u001b[38;5;124m\"\u001b[39m\u001b[38;5;124mD:/Python files req for Btech/videoresults\u001b[39m\u001b[38;5;124m\"\u001b[39m\n",
      "File \u001b[1;32md:\\Anaconda\\Lib\\site-packages\\torchvision\\__init__.py:6\u001b[0m\n\u001b[0;32m      3\u001b[0m \u001b[38;5;28;01mfrom\u001b[39;00m \u001b[38;5;21;01mmodulefinder\u001b[39;00m \u001b[38;5;28;01mimport\u001b[39;00m Module\n\u001b[0;32m      5\u001b[0m \u001b[38;5;28;01mimport\u001b[39;00m \u001b[38;5;21;01mtorch\u001b[39;00m\n\u001b[1;32m----> 6\u001b[0m \u001b[38;5;28;01mfrom\u001b[39;00m \u001b[38;5;21;01mtorchvision\u001b[39;00m \u001b[38;5;28;01mimport\u001b[39;00m _meta_registrations, datasets, io, models, ops, transforms, utils\n\u001b[0;32m      8\u001b[0m \u001b[38;5;28;01mfrom\u001b[39;00m \u001b[38;5;21;01m.\u001b[39;00m\u001b[38;5;21;01mextension\u001b[39;00m \u001b[38;5;28;01mimport\u001b[39;00m _HAS_OPS\n\u001b[0;32m     10\u001b[0m \u001b[38;5;28;01mtry\u001b[39;00m:\n",
      "File \u001b[1;32md:\\Anaconda\\Lib\\site-packages\\torchvision\\datasets\\__init__.py:1\u001b[0m\n\u001b[1;32m----> 1\u001b[0m \u001b[38;5;28;01mfrom\u001b[39;00m \u001b[38;5;21;01m.\u001b[39;00m\u001b[38;5;21;01m_optical_flow\u001b[39;00m \u001b[38;5;28;01mimport\u001b[39;00m FlyingChairs, FlyingThings3D, HD1K, KittiFlow, Sintel\n\u001b[0;32m      2\u001b[0m \u001b[38;5;28;01mfrom\u001b[39;00m \u001b[38;5;21;01m.\u001b[39;00m\u001b[38;5;21;01m_stereo_matching\u001b[39;00m \u001b[38;5;28;01mimport\u001b[39;00m (\n\u001b[0;32m      3\u001b[0m     CarlaStereo,\n\u001b[0;32m      4\u001b[0m     CREStereo,\n\u001b[1;32m   (...)\u001b[0m\n\u001b[0;32m     12\u001b[0m     SintelStereo,\n\u001b[0;32m     13\u001b[0m )\n\u001b[0;32m     14\u001b[0m \u001b[38;5;28;01mfrom\u001b[39;00m \u001b[38;5;21;01m.\u001b[39;00m\u001b[38;5;21;01mcaltech\u001b[39;00m \u001b[38;5;28;01mimport\u001b[39;00m Caltech101, Caltech256\n",
      "File \u001b[1;32md:\\Anaconda\\Lib\\site-packages\\torchvision\\datasets\\_optical_flow.py:13\u001b[0m\n\u001b[0;32m     10\u001b[0m \u001b[38;5;28;01mfrom\u001b[39;00m \u001b[38;5;21;01mPIL\u001b[39;00m \u001b[38;5;28;01mimport\u001b[39;00m Image\n\u001b[0;32m     12\u001b[0m \u001b[38;5;28;01mfrom\u001b[39;00m \u001b[38;5;21;01m.\u001b[39;00m\u001b[38;5;21;01m.\u001b[39;00m\u001b[38;5;21;01mio\u001b[39;00m\u001b[38;5;21;01m.\u001b[39;00m\u001b[38;5;21;01mimage\u001b[39;00m \u001b[38;5;28;01mimport\u001b[39;00m _read_png_16\n\u001b[1;32m---> 13\u001b[0m \u001b[38;5;28;01mfrom\u001b[39;00m \u001b[38;5;21;01m.\u001b[39;00m\u001b[38;5;21;01mutils\u001b[39;00m \u001b[38;5;28;01mimport\u001b[39;00m _read_pfm, verify_str_arg\n\u001b[0;32m     14\u001b[0m \u001b[38;5;28;01mfrom\u001b[39;00m \u001b[38;5;21;01m.\u001b[39;00m\u001b[38;5;21;01mvision\u001b[39;00m \u001b[38;5;28;01mimport\u001b[39;00m VisionDataset\n\u001b[0;32m     17\u001b[0m T1 \u001b[38;5;241m=\u001b[39m Tuple[Image\u001b[38;5;241m.\u001b[39mImage, Image\u001b[38;5;241m.\u001b[39mImage, Optional[np\u001b[38;5;241m.\u001b[39mndarray], Optional[np\u001b[38;5;241m.\u001b[39mndarray]]\n",
      "File \u001b[1;32md:\\Anaconda\\Lib\\site-packages\\torchvision\\datasets\\utils.py:22\u001b[0m\n\u001b[0;32m     19\u001b[0m \u001b[38;5;28;01mfrom\u001b[39;00m \u001b[38;5;21;01murllib\u001b[39;00m\u001b[38;5;21;01m.\u001b[39;00m\u001b[38;5;21;01mparse\u001b[39;00m \u001b[38;5;28;01mimport\u001b[39;00m urlparse\n\u001b[0;32m     21\u001b[0m \u001b[38;5;28;01mimport\u001b[39;00m \u001b[38;5;21;01mnumpy\u001b[39;00m \u001b[38;5;28;01mas\u001b[39;00m \u001b[38;5;21;01mnp\u001b[39;00m\n\u001b[1;32m---> 22\u001b[0m \u001b[38;5;28;01mimport\u001b[39;00m \u001b[38;5;21;01mrequests\u001b[39;00m\n\u001b[0;32m     23\u001b[0m \u001b[38;5;28;01mimport\u001b[39;00m \u001b[38;5;21;01mtorch\u001b[39;00m\n\u001b[0;32m     24\u001b[0m \u001b[38;5;28;01mfrom\u001b[39;00m \u001b[38;5;21;01mtorch\u001b[39;00m\u001b[38;5;21;01m.\u001b[39;00m\u001b[38;5;21;01mutils\u001b[39;00m\u001b[38;5;21;01m.\u001b[39;00m\u001b[38;5;21;01mmodel_zoo\u001b[39;00m \u001b[38;5;28;01mimport\u001b[39;00m tqdm\n",
      "File \u001b[1;32md:\\Anaconda\\Lib\\site-packages\\requests\\__init__.py:43\u001b[0m\n\u001b[0;32m      6\u001b[0m \u001b[38;5;124;03m\"\"\"\u001b[39;00m\n\u001b[0;32m      7\u001b[0m \u001b[38;5;124;03mRequests HTTP Library\u001b[39;00m\n\u001b[0;32m      8\u001b[0m \u001b[38;5;124;03m~~~~~~~~~~~~~~~~~~~~~\u001b[39;00m\n\u001b[1;32m   (...)\u001b[0m\n\u001b[0;32m     38\u001b[0m \u001b[38;5;124;03m:license: Apache 2.0, see LICENSE for more details.\u001b[39;00m\n\u001b[0;32m     39\u001b[0m \u001b[38;5;124;03m\"\"\"\u001b[39;00m\n\u001b[0;32m     41\u001b[0m \u001b[38;5;28;01mimport\u001b[39;00m \u001b[38;5;21;01mwarnings\u001b[39;00m\n\u001b[1;32m---> 43\u001b[0m \u001b[38;5;28;01mimport\u001b[39;00m \u001b[38;5;21;01murllib3\u001b[39;00m\n\u001b[0;32m     45\u001b[0m \u001b[38;5;28;01mfrom\u001b[39;00m \u001b[38;5;21;01m.\u001b[39;00m\u001b[38;5;21;01mexceptions\u001b[39;00m \u001b[38;5;28;01mimport\u001b[39;00m RequestsDependencyWarning\n\u001b[0;32m     47\u001b[0m \u001b[38;5;28;01mtry\u001b[39;00m:\n",
      "File \u001b[1;32md:\\Anaconda\\Lib\\site-packages\\urllib3\\__init__.py:13\u001b[0m\n\u001b[0;32m     11\u001b[0m \u001b[38;5;28;01mfrom\u001b[39;00m \u001b[38;5;21;01m.\u001b[39;00m \u001b[38;5;28;01mimport\u001b[39;00m exceptions\n\u001b[0;32m     12\u001b[0m \u001b[38;5;28;01mfrom\u001b[39;00m \u001b[38;5;21;01m.\u001b[39;00m\u001b[38;5;21;01m_version\u001b[39;00m \u001b[38;5;28;01mimport\u001b[39;00m __version__\n\u001b[1;32m---> 13\u001b[0m \u001b[38;5;28;01mfrom\u001b[39;00m \u001b[38;5;21;01m.\u001b[39;00m\u001b[38;5;21;01mconnectionpool\u001b[39;00m \u001b[38;5;28;01mimport\u001b[39;00m HTTPConnectionPool, HTTPSConnectionPool, connection_from_url\n\u001b[0;32m     14\u001b[0m \u001b[38;5;28;01mfrom\u001b[39;00m \u001b[38;5;21;01m.\u001b[39;00m\u001b[38;5;21;01mfilepost\u001b[39;00m \u001b[38;5;28;01mimport\u001b[39;00m encode_multipart_formdata\n\u001b[0;32m     15\u001b[0m \u001b[38;5;28;01mfrom\u001b[39;00m \u001b[38;5;21;01m.\u001b[39;00m\u001b[38;5;21;01mpoolmanager\u001b[39;00m \u001b[38;5;28;01mimport\u001b[39;00m PoolManager, ProxyManager, proxy_from_url\n",
      "File \u001b[1;32md:\\Anaconda\\Lib\\site-packages\\urllib3\\connectionpool.py:12\u001b[0m\n\u001b[0;32m      9\u001b[0m \u001b[38;5;28;01mfrom\u001b[39;00m \u001b[38;5;21;01msocket\u001b[39;00m \u001b[38;5;28;01mimport\u001b[39;00m error \u001b[38;5;28;01mas\u001b[39;00m SocketError\n\u001b[0;32m     10\u001b[0m \u001b[38;5;28;01mfrom\u001b[39;00m \u001b[38;5;21;01msocket\u001b[39;00m \u001b[38;5;28;01mimport\u001b[39;00m timeout \u001b[38;5;28;01mas\u001b[39;00m SocketTimeout\n\u001b[1;32m---> 12\u001b[0m \u001b[38;5;28;01mfrom\u001b[39;00m \u001b[38;5;21;01m.\u001b[39;00m\u001b[38;5;21;01mconnection\u001b[39;00m \u001b[38;5;28;01mimport\u001b[39;00m (\n\u001b[0;32m     13\u001b[0m     BaseSSLError,\n\u001b[0;32m     14\u001b[0m     \u001b[38;5;167;01mBrokenPipeError\u001b[39;00m,\n\u001b[0;32m     15\u001b[0m     DummyConnection,\n\u001b[0;32m     16\u001b[0m     HTTPConnection,\n\u001b[0;32m     17\u001b[0m     HTTPException,\n\u001b[0;32m     18\u001b[0m     HTTPSConnection,\n\u001b[0;32m     19\u001b[0m     VerifiedHTTPSConnection,\n\u001b[0;32m     20\u001b[0m     port_by_scheme,\n\u001b[0;32m     21\u001b[0m )\n\u001b[0;32m     22\u001b[0m \u001b[38;5;28;01mfrom\u001b[39;00m \u001b[38;5;21;01m.\u001b[39;00m\u001b[38;5;21;01mexceptions\u001b[39;00m \u001b[38;5;28;01mimport\u001b[39;00m (\n\u001b[0;32m     23\u001b[0m     ClosedPoolError,\n\u001b[0;32m     24\u001b[0m     EmptyPoolError,\n\u001b[1;32m   (...)\u001b[0m\n\u001b[0;32m     35\u001b[0m     \u001b[38;5;167;01mTimeoutError\u001b[39;00m,\n\u001b[0;32m     36\u001b[0m )\n\u001b[0;32m     37\u001b[0m \u001b[38;5;28;01mfrom\u001b[39;00m \u001b[38;5;21;01m.\u001b[39;00m\u001b[38;5;21;01mpackages\u001b[39;00m \u001b[38;5;28;01mimport\u001b[39;00m six\n",
      "File \u001b[1;32md:\\Anaconda\\Lib\\site-packages\\urllib3\\connection.py:15\u001b[0m\n\u001b[0;32m     13\u001b[0m \u001b[38;5;28;01mfrom\u001b[39;00m \u001b[38;5;21;01m.\u001b[39;00m\u001b[38;5;21;01mpackages\u001b[39;00m\u001b[38;5;21;01m.\u001b[39;00m\u001b[38;5;21;01msix\u001b[39;00m\u001b[38;5;21;01m.\u001b[39;00m\u001b[38;5;21;01mmoves\u001b[39;00m\u001b[38;5;21;01m.\u001b[39;00m\u001b[38;5;21;01mhttp_client\u001b[39;00m \u001b[38;5;28;01mimport\u001b[39;00m HTTPConnection \u001b[38;5;28;01mas\u001b[39;00m _HTTPConnection\n\u001b[0;32m     14\u001b[0m \u001b[38;5;28;01mfrom\u001b[39;00m \u001b[38;5;21;01m.\u001b[39;00m\u001b[38;5;21;01mpackages\u001b[39;00m\u001b[38;5;21;01m.\u001b[39;00m\u001b[38;5;21;01msix\u001b[39;00m\u001b[38;5;21;01m.\u001b[39;00m\u001b[38;5;21;01mmoves\u001b[39;00m\u001b[38;5;21;01m.\u001b[39;00m\u001b[38;5;21;01mhttp_client\u001b[39;00m \u001b[38;5;28;01mimport\u001b[39;00m HTTPException  \u001b[38;5;66;03m# noqa: F401\u001b[39;00m\n\u001b[1;32m---> 15\u001b[0m \u001b[38;5;28;01mfrom\u001b[39;00m \u001b[38;5;21;01m.\u001b[39;00m\u001b[38;5;21;01mutil\u001b[39;00m\u001b[38;5;21;01m.\u001b[39;00m\u001b[38;5;21;01mproxy\u001b[39;00m \u001b[38;5;28;01mimport\u001b[39;00m create_proxy_ssl_context\n\u001b[0;32m     17\u001b[0m \u001b[38;5;28;01mtry\u001b[39;00m:  \u001b[38;5;66;03m# Compiled with SSL?\u001b[39;00m\n\u001b[0;32m     18\u001b[0m     \u001b[38;5;28;01mimport\u001b[39;00m \u001b[38;5;21;01mssl\u001b[39;00m\n",
      "File \u001b[1;32md:\\Anaconda\\Lib\\site-packages\\urllib3\\util\\__init__.py:8\u001b[0m\n\u001b[0;32m      6\u001b[0m \u001b[38;5;28;01mfrom\u001b[39;00m \u001b[38;5;21;01m.\u001b[39;00m\u001b[38;5;21;01mresponse\u001b[39;00m \u001b[38;5;28;01mimport\u001b[39;00m is_fp_closed\n\u001b[0;32m      7\u001b[0m \u001b[38;5;28;01mfrom\u001b[39;00m \u001b[38;5;21;01m.\u001b[39;00m\u001b[38;5;21;01mretry\u001b[39;00m \u001b[38;5;28;01mimport\u001b[39;00m Retry\n\u001b[1;32m----> 8\u001b[0m \u001b[38;5;28;01mfrom\u001b[39;00m \u001b[38;5;21;01m.\u001b[39;00m\u001b[38;5;21;01mssl_\u001b[39;00m \u001b[38;5;28;01mimport\u001b[39;00m (\n\u001b[0;32m      9\u001b[0m     ALPN_PROTOCOLS,\n\u001b[0;32m     10\u001b[0m     HAS_SNI,\n\u001b[0;32m     11\u001b[0m     IS_PYOPENSSL,\n\u001b[0;32m     12\u001b[0m     IS_SECURETRANSPORT,\n\u001b[0;32m     13\u001b[0m     PROTOCOL_TLS,\n\u001b[0;32m     14\u001b[0m     SSLContext,\n\u001b[0;32m     15\u001b[0m     assert_fingerprint,\n\u001b[0;32m     16\u001b[0m     resolve_cert_reqs,\n\u001b[0;32m     17\u001b[0m     resolve_ssl_version,\n\u001b[0;32m     18\u001b[0m     ssl_wrap_socket,\n\u001b[0;32m     19\u001b[0m )\n\u001b[0;32m     20\u001b[0m \u001b[38;5;28;01mfrom\u001b[39;00m \u001b[38;5;21;01m.\u001b[39;00m\u001b[38;5;21;01mtimeout\u001b[39;00m \u001b[38;5;28;01mimport\u001b[39;00m Timeout, current_time\n\u001b[0;32m     21\u001b[0m \u001b[38;5;28;01mfrom\u001b[39;00m \u001b[38;5;21;01m.\u001b[39;00m\u001b[38;5;21;01murl\u001b[39;00m \u001b[38;5;28;01mimport\u001b[39;00m Url, get_host, parse_url, split_first\n",
      "File \u001b[1;32md:\\Anaconda\\Lib\\site-packages\\urllib3\\util\\ssl_.py:57\u001b[0m\n\u001b[0;32m     54\u001b[0m     \u001b[38;5;28;01mpass\u001b[39;00m\n\u001b[0;32m     56\u001b[0m \u001b[38;5;28;01mtry\u001b[39;00m:\n\u001b[1;32m---> 57\u001b[0m     \u001b[38;5;28;01mfrom\u001b[39;00m \u001b[38;5;21;01m.\u001b[39;00m\u001b[38;5;21;01mssltransport\u001b[39;00m \u001b[38;5;28;01mimport\u001b[39;00m SSLTransport\n\u001b[0;32m     58\u001b[0m \u001b[38;5;28;01mexcept\u001b[39;00m \u001b[38;5;167;01mImportError\u001b[39;00m:\n\u001b[0;32m     59\u001b[0m     \u001b[38;5;28;01mpass\u001b[39;00m\n",
      "File \u001b[1;32m<frozen importlib._bootstrap>:1176\u001b[0m, in \u001b[0;36m_find_and_load\u001b[1;34m(name, import_)\u001b[0m\n",
      "File \u001b[1;32m<frozen importlib._bootstrap>:1138\u001b[0m, in \u001b[0;36m_find_and_load_unlocked\u001b[1;34m(name, import_)\u001b[0m\n",
      "File \u001b[1;32m<frozen importlib._bootstrap>:1078\u001b[0m, in \u001b[0;36m_find_spec\u001b[1;34m(name, path, target)\u001b[0m\n",
      "File \u001b[1;32m<frozen importlib._bootstrap_external>:1504\u001b[0m, in \u001b[0;36mfind_spec\u001b[1;34m(cls, fullname, path, target)\u001b[0m\n",
      "File \u001b[1;32m<frozen importlib._bootstrap_external>:1476\u001b[0m, in \u001b[0;36m_get_spec\u001b[1;34m(cls, fullname, path, target)\u001b[0m\n",
      "File \u001b[1;32m<frozen importlib._bootstrap_external>:1612\u001b[0m, in \u001b[0;36mfind_spec\u001b[1;34m(self, fullname, target)\u001b[0m\n",
      "File \u001b[1;32m<frozen importlib._bootstrap_external>:147\u001b[0m, in \u001b[0;36m_path_stat\u001b[1;34m(path)\u001b[0m\n",
      "\u001b[1;31mKeyboardInterrupt\u001b[0m: "
     ]
    }
   ],
   "source": [
    "import os\n",
    "import cv2\n",
    "from PIL import Image, ImageDraw\n",
    "from torchvision.transforms import functional as F\n",
    "\n",
    "# Directory to store the results\n",
    "results_dir = \"D:/Python files req for Btech/videoresults\"\n",
    "os.makedirs(results_dir, exist_ok=True)\n",
    "\n",
    "#file for storing coordinates\n",
    "coordinate_file = open(\"coordinate_file.txt\", 'w')\n",
    "\n",
    "# Perform prediction\n",
    "model = YOLO('D:/Python files req for Btech/training_results/BRT5/weights/best.pt')  # Load YOLOv8n model\n",
    "\n",
    "# Open the video file\n",
    "video_path = \"D:/Python files req for Btech/Output Video.avi\"\n",
    "cap = cv2.VideoCapture(video_path)\n",
    "\n",
    "frame_count = 0\n",
    "\n",
    "while True:\n",
    "    ret, frame = cap.read()\n",
    "    if not ret:\n",
    "        break\n",
    "\n",
    "    # Convert frame to PIL image\n",
    "    image = Image.fromarray(cv2.cvtColor(frame, cv2.COLOR_BGR2RGB))\n",
    "\n",
    "    # Perform prediction\n",
    "    results = model.predict(image, conf=0.55)\n",
    "\n",
    "    # Draw bounding boxes on the frame\n",
    "    draw = ImageDraw.Draw(image)\n",
    "    for result in results:\n",
    "        for box in result.boxes.xyxy:\n",
    "            x0, y0, x1, y1 = box.tolist()\n",
    "            draw.rectangle([x0, y0, x1, y1], outline=\"red\", width=3)\n",
    "            coordinate_file.write(f\"{frame_count},{x0},{y0},{x1},{y1}\\n\")\n",
    "\n",
    "    # Save the result frame\n",
    "    result_frame_path = os.path.join(results_dir, f\"result_{frame_count}.jpg\")\n",
    "    image.save(result_frame_path)\n",
    "\n",
    "    print(f\"Result saved: {result_frame_path}\")\n",
    "\n",
    "    frame_count += 1\n",
    "\n",
    "cap.release()\n",
    "coordinate_file.close()"
   ]
  },
  {
   "cell_type": "code",
   "execution_count": 16,
   "metadata": {},
   "outputs": [
    {
     "name": "stdout",
     "output_type": "stream",
     "text": [
      "150 247 292 346\n"
     ]
    }
   ],
   "source": [
    "firstcoordinate_x = click_coordinates[0][0]\n",
    "firstcoordinate_y = click_coordinates[0][1]\n",
    "secondcoordinate_x = click_coordinates[1][0]\n",
    "secondcoordinate_y = click_coordinates[1][1]\n",
    "print(firstcoordinate_x,firstcoordinate_y,secondcoordinate_x,secondcoordinate_y)"
   ]
  },
  {
   "cell_type": "code",
   "execution_count": 10,
   "metadata": {},
   "outputs": [
    {
     "name": "stdout",
     "output_type": "stream",
     "text": [
      "Rectangle intersects the line.\n"
     ]
    }
   ],
   "source": [
    "def on_segment(p, q, r):\n",
    "    \"\"\"Check if point q lies on segment pr\"\"\"\n",
    "    if (q[0] <= max(p[0], r[0]) and q[0] >= min(p[0], r[0]) and\n",
    "        q[1] <= max(p[1], r[1]) and q[1] >= min(p[1], r[1])):\n",
    "        return True\n",
    "    return False\n",
    "\n",
    "def orientation(p, q, r):\n",
    "    \"\"\"Find orientation of triplet (p, q, r)\"\"\"\n",
    "    val = (float(q[1] - p[1]) * (r[0] - q[0])) - (float(q[0] - p[0]) * (r[1] - q[1]))\n",
    "    if val > 0:\n",
    "        return 1  # Clockwise orientation\n",
    "    elif val < 0:\n",
    "        return 2  # Counterclockwise orientation\n",
    "    else:\n",
    "        return 0  # Colinear orientation\n",
    "\n",
    "def do_intersect(rect, line):\n",
    "    x1, y1, x2, y2 = rect\n",
    "    x3, y3, x4, y4 = line\n",
    "\n",
    "    # Rectangle coordinates\n",
    "    left_bottom = (min(x1, x2), min(y1, y2))\n",
    "    right_top = (max(x1, x2), max(y1, y2))\n",
    "\n",
    "    # Line coordinates\n",
    "    p1 = (x3, y3)\n",
    "    q1 = (x4, y4)\n",
    "\n",
    "    # Check if any endpoint of the line segment is inside the rectangle\n",
    "    if (left_bottom[0] < p1[0] < right_top[0] and left_bottom[1] < p1[1] < right_top[1]) or \\\n",
    "       (left_bottom[0] < q1[0] < right_top[0] and left_bottom[1] < q1[1] < right_top[1]):\n",
    "        return True\n",
    "\n",
    "    # Check for intersection with each side of the rectangle\n",
    "    p2 = (x1, y1)\n",
    "    q2 = (x1, y2)\n",
    "    r2 = (x2, y1)\n",
    "    s2 = (x2, y2)\n",
    "\n",
    "    # Check intersection of line with each side of the rectangle\n",
    "    if (orientation(p2, q2, p1) != orientation(p2, q2, q1) and\n",
    "        orientation(p1, q1, p2) != orientation(p1, q1, r2)):\n",
    "        return True\n",
    "    if (orientation(p2, r2, p1) != orientation(p2, r2, q1) and\n",
    "        orientation(p1, q1, p2) != orientation(p1, q1, s2)):\n",
    "        return True\n",
    "    if (orientation(q2, s2, p1) != orientation(q2, s2, q1) and\n",
    "        orientation(p1, q1, q2) != orientation(p1, q1, s2)):\n",
    "        return True\n",
    "    if (orientation(r2, s2, p1) != orientation(r2, s2, q1) and\n",
    "        orientation(p1, q1, r2) != orientation(p1, q1, s2)):\n",
    "        return True\n",
    "\n",
    "    return False\n",
    "\n",
    "# Example usage:\n",
    "rectangle_coordinates = (0, 0, 2, 2)  # x1, y1, x2, y2\n",
    "line_coordinates = (1, -1, 1, 3)      # x3, y3, x4, y4\n",
    "if do_intersect(rectangle_coordinates, line_coordinates):\n",
    "    print(\"Rectangle intersects the line.\")\n",
    "else:\n",
    "    print(\"Rectangle does not intersect the line.\")\n"
   ]
  },
  {
   "cell_type": "code",
   "execution_count": 27,
   "metadata": {},
   "outputs": [
    {
     "name": "stdout",
     "output_type": "stream",
     "text": [
      "['14', '16', '17', '23', '25', '29', '33', '58', '76', '80', '88', '89', '109', '128', '141', '151', '152', '178', '181', '183', '185', '186', '197', '205', '209', '213', '214', '216', '217', '227', '236', '237', '238', '239', '250', '251', '252', '254', '256', '306', '307', '308', '327', '339', '340', '349', '387', '388', '411', '414', '432', '443', '455', '460', '470', '482', '490', '492', '528', '531', '552', '561', '562', '564', '565', '572', '573', '600', '603', '606', '610', '666', '711', '712', '713', '714', '731', '732', '748', '749', '753', '754', '772', '777', '788', '789', '798', '800', '801', '803', '814', '823', '827', '843', '844', '846', '851', '862', '881', '906', '913', '918', '927', '929', '934', '935', '943', '944', '946', '973', '974', '975', '976', '977', '978', '979', '1023', '1034', '1035', '1054', '1055', '1075', '1076', '1078', '1081', '1087', '1088', '1107', '1118', '1123', '1127', '1129', '1131', '1132', '1134', '1135', '1145', '1154', '1155']\n"
     ]
    }
   ],
   "source": [
    "file = open(\"coordinate_file.txt\", 'r')\n",
    "files_with_intersections = []\n",
    "\n",
    "# Define click_coordinates\n",
    "click_coordinates = (0, 0)\n",
    "\n",
    "with file as filestream:\n",
    "    for line in filestream:\n",
    "        currentline = line.split(',')\n",
    "        filenumber = currentline[0]\n",
    "        \n",
    "        # Convert coordinates to floats\n",
    "        rectangle_coordinates = [float(currentline[1]), float(currentline[2]), float(currentline[3]), float(currentline[4])]\n",
    "        line_coordinates = [float(firstcoordinate_x), float(firstcoordinate_y), float(secondcoordinate_x), float(secondcoordinate_y)]\n",
    "        \n",
    "        #print(rectangle_coordinates, line_coordinates)\n",
    "        \n",
    "        if do_intersect(rectangle_coordinates, line_coordinates):\n",
    "            if filenumber not in files_with_intersections: \n",
    "                files_with_intersections.append(filenumber)\n",
    "        else:\n",
    "            continue\n",
    "\n",
    "print(files_with_intersections)\n"
   ]
  },
  {
   "cell_type": "code",
   "execution_count": 28,
   "metadata": {},
   "outputs": [
    {
     "name": "stdout",
     "output_type": "stream",
     "text": [
      "successfully copied\n"
     ]
    }
   ],
   "source": [
    "import shutil\n",
    "results_dir = \"D:/Python files req for Btech/videoresults\"\n",
    "finalresults_dir = \"D:/Python files req for Btech/intersectingframes\"\n",
    "os.makedirs(finalresults_dir, exist_ok=True)\n",
    "for items in files_with_intersections:\n",
    "    result_frame_path = os.path.join(results_dir, f\"result_{items}.jpg\")\n",
    "    finalresult_path = os.path.join(finalresults_dir, f\"finalresult_{items}.jpg\")\n",
    "    shutil.copy(result_frame_path,finalresult_path)\n",
    "print(\"successfully copied\")    "
   ]
  }
 ],
 "metadata": {
  "kernelspec": {
   "display_name": ".venv",
   "language": "python",
   "name": "python3"
  },
  "language_info": {
   "codemirror_mode": {
    "name": "ipython",
    "version": 3
   },
   "file_extension": ".py",
   "mimetype": "text/x-python",
   "name": "python",
   "nbconvert_exporter": "python",
   "pygments_lexer": "ipython3",
   "version": "3.11.4"
  }
 },
 "nbformat": 4,
 "nbformat_minor": 2
}
